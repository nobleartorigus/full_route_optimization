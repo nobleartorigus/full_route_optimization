{
 "cells": [
  {
   "cell_type": "code",
   "execution_count": 1,
   "metadata": {},
   "outputs": [],
   "source": [
    "from sys import path\n",
    "path.insert(0,'../../python')\n",
    "from google_api import *\n",
    "from map_utils import *\n",
    "import folium\n",
    "from folium.plugins import MarkerCluster, HeatMap, Fullscreen\n",
    "from folium import plugins\n",
    "from async_request import make_request"
   ]
  },
  {
   "cell_type": "code",
   "execution_count": 2,
   "metadata": {},
   "outputs": [],
   "source": [
    "begin = \"ROBERT BOSCH MEXICO Santa Fe CDMX\"\n",
    "end = \"Orizaba 32 CDMX\""
   ]
  },
  {
   "cell_type": "code",
   "execution_count": 3,
   "metadata": {},
   "outputs": [],
   "source": [
    "geocode_result = gmaps.geocode(begin)\n",
    "bosch_location = get_geocode_locations(geocode_result)[0]"
   ]
  },
  {
   "cell_type": "code",
   "execution_count": 4,
   "metadata": {},
   "outputs": [],
   "source": [
    "geocode_result = gmaps.geocode(end)\n",
    "orizaba_location = get_geocode_locations(geocode_result)[0]"
   ]
  },
  {
   "cell_type": "code",
   "execution_count": 5,
   "metadata": {},
   "outputs": [],
   "source": [
    "directions_result = gmaps.directions(begin,\n",
    "                                     end,\n",
    "                                     mode=\"driving\",\n",
    "                                     alternatives=False,\n",
    "                                     )"
   ]
  },
  {
   "cell_type": "code",
   "execution_count": 6,
   "metadata": {},
   "outputs": [
    {
     "data": {
      "text/plain": [
       "'14.0 km'"
      ]
     },
     "execution_count": 6,
     "metadata": {},
     "output_type": "execute_result"
    }
   ],
   "source": [
    "distances = get_directions_total_distance(directions_result)\n",
    "format_distance(distances[0])"
   ]
  },
  {
   "cell_type": "code",
   "execution_count": 7,
   "metadata": {},
   "outputs": [
    {
     "data": {
      "text/plain": [
       "'33 min'"
      ]
     },
     "execution_count": 7,
     "metadata": {},
     "output_type": "execute_result"
    }
   ],
   "source": [
    "durations = get_directions_total_duration(directions_result)\n",
    "format_duration(durations[0])"
   ]
  },
  {
   "cell_type": "code",
   "execution_count": 8,
   "metadata": {},
   "outputs": [],
   "source": [
    "polyline = get_directions_polylines(directions_result)[0]"
   ]
  },
  {
   "cell_type": "code",
   "execution_count": 146,
   "metadata": {},
   "outputs": [],
   "source": [
    "from datetime import datetime, timedelta, time\n",
    "now = datetime.now()"
   ]
  },
  {
   "cell_type": "code",
   "execution_count": 147,
   "metadata": {},
   "outputs": [
    {
     "data": {
      "text/plain": [
       "datetime.datetime(2020, 2, 18, 11, 14, 24, 84463)"
      ]
     },
     "execution_count": 147,
     "metadata": {},
     "output_type": "execute_result"
    }
   ],
   "source": [
    "now"
   ]
  },
  {
   "cell_type": "code",
   "execution_count": 49,
   "metadata": {
    "scrolled": true
   },
   "outputs": [
    {
     "data": {
      "text/plain": [
       "datetime.datetime(2020, 2, 17, 14, 38, 4, 514789)"
      ]
     },
     "execution_count": 49,
     "metadata": {},
     "output_type": "execute_result"
    }
   ],
   "source": [
    "now + timedelta(minutes = 15)"
   ]
  },
  {
   "cell_type": "code",
   "execution_count": 376,
   "metadata": {},
   "outputs": [],
   "source": [
    "date_request = []\n",
    "start_date = datetime(2020, 2, 28, 5, 0, 0)\n",
    "#start_date = datetime.now()\n",
    "end_date = datetime(2020, 2, 28, 22, 0, 0)\n",
    "while start_date <= end_date:\n",
    "    #print(start_date)\n",
    "    date_request.append(start_date)\n",
    "    start_date = start_date + timedelta(minutes = 15)"
   ]
  },
  {
   "cell_type": "code",
   "execution_count": 209,
   "metadata": {
    "scrolled": true
   },
   "outputs": [],
   "source": [
    "#date_request"
   ]
  },
  {
   "cell_type": "code",
   "execution_count": 233,
   "metadata": {},
   "outputs": [],
   "source": [
    "dir_results = []\n",
    "for i in date_request:\n",
    "    directions_result = gmaps.directions(begin,\n",
    "                                     end,\n",
    "                                     mode=\"driving\",\n",
    "                                     departure_time=i, \n",
    "                                     alternatives=False,\n",
    "                                     traffic_model = 'best_guess')\n",
    "    dir_results.append(directions_result)"
   ]
  },
  {
   "cell_type": "code",
   "execution_count": 377,
   "metadata": {},
   "outputs": [],
   "source": [
    "dir_results_vuelta = []\n",
    "for i in date_request:\n",
    "    directions_result = gmaps.directions(end,\n",
    "                                     begin,\n",
    "                                     mode=\"driving\",\n",
    "                                     departure_time=i, \n",
    "                                     alternatives=False,\n",
    "                                     traffic_model = 'best_guess')\n",
    "    dir_results_vuelta.append(directions_result)"
   ]
  },
  {
   "cell_type": "code",
   "execution_count": 362,
   "metadata": {},
   "outputs": [],
   "source": [
    "dir_results_vuelta_lunes = dir_results_vuelta"
   ]
  },
  {
   "cell_type": "code",
   "execution_count": 371,
   "metadata": {},
   "outputs": [],
   "source": [
    "dir_results_vuelta_miercoles = dir_results_vuelta"
   ]
  },
  {
   "cell_type": "code",
   "execution_count": 378,
   "metadata": {},
   "outputs": [],
   "source": [
    "dir_results_vuelta_viernes = dir_results_vuelta"
   ]
  },
  {
   "cell_type": "code",
   "execution_count": 220,
   "metadata": {},
   "outputs": [],
   "source": [
    "dir_results_lunes = dir_results"
   ]
  },
  {
   "cell_type": "code",
   "execution_count": 227,
   "metadata": {},
   "outputs": [],
   "source": [
    "dir_results_miercoles = dir_results"
   ]
  },
  {
   "cell_type": "code",
   "execution_count": 234,
   "metadata": {},
   "outputs": [],
   "source": [
    "dir_results_viernes = dir_results"
   ]
  },
  {
   "cell_type": "code",
   "execution_count": 235,
   "metadata": {},
   "outputs": [],
   "source": [
    "distances_x = []\n",
    "for e in dir_results:\n",
    "    distances_x.append(get_directions_total_distance(dir_results[0]))"
   ]
  },
  {
   "cell_type": "code",
   "execution_count": 313,
   "metadata": {},
   "outputs": [],
   "source": [
    "\"\"\"\"convertir segundos a minutos\n",
    "durations_sec = []\n",
    "index_dur = 0\n",
    "for i in dir_results:\n",
    "    dur = get_directions_total_duration(dir_results[index_dur])\n",
    "    #dur = format_duration(dur[0])\n",
    "    durations_sec.append(dur)\n",
    "    index_dur += 1"
   ]
  },
  {
   "cell_type": "code",
   "execution_count": 317,
   "metadata": {
    "scrolled": false
   },
   "outputs": [
    {
     "data": {
      "text/plain": [
       "1358"
      ]
     },
     "execution_count": 317,
     "metadata": {},
     "output_type": "execute_result"
    }
   ],
   "source": [
    "durations_sec[0][0]"
   ]
  },
  {
   "cell_type": "markdown",
   "metadata": {},
   "source": [
    " ### Ida"
   ]
  },
  {
   "cell_type": "code",
   "execution_count": 354,
   "metadata": {},
   "outputs": [],
   "source": [
    "#lunes\n",
    "durations_x = []\n",
    "arrival_x = []\n",
    "index_dur = 0\n",
    "for i in dir_results:\n",
    "    dur = get_directions_total_duration(dir_results[index_dur])\n",
    "    dur_arrival = dur[0]\n",
    "    dur_arrival = dur_arrival/60\n",
    "    dur = format_duration(dur[0])\n",
    "    arrival = date_request[index_dur] + timedelta(minutes = dur_arrival)\n",
    "    arrival = str(arrival.time())[0:5]\n",
    "    #print(str(arrival.time())[0:5])\n",
    "    durations_x.append(dur)\n",
    "    arrival_x.append(arrival)\n",
    "    index_dur += 1"
   ]
  },
  {
   "cell_type": "markdown",
   "metadata": {},
   "source": [
    "### Vuelta"
   ]
  },
  {
   "cell_type": "code",
   "execution_count": 379,
   "metadata": {},
   "outputs": [],
   "source": [
    "#lunes\n",
    "durations_x = []\n",
    "arrival_x = []\n",
    "index_dur = 0\n",
    "for i in dir_results_vuelta:\n",
    "    dur = get_directions_total_duration(dir_results_vuelta[index_dur])\n",
    "    dur_arrival = dur[0]/60\n",
    "    dur = format_duration(dur[0])\n",
    "    arrival = date_request[index_dur] + timedelta(minutes = dur_arrival)\n",
    "    arrival = str(arrival.time())[0:5]\n",
    "    #print(str(arrival.time())[0:5])\n",
    "    durations_x.append(dur)\n",
    "    arrival_x.append(arrival)\n",
    "    index_dur += 1"
   ]
  },
  {
   "cell_type": "markdown",
   "metadata": {},
   "source": [
    "### --------------------------------------------------------------------------------------------------------------"
   ]
  },
  {
   "cell_type": "code",
   "execution_count": 367,
   "metadata": {},
   "outputs": [],
   "source": [
    "return_monday = durations_x\n",
    "arrival_return_monday = arrival_x"
   ]
  },
  {
   "cell_type": "code",
   "execution_count": 373,
   "metadata": {},
   "outputs": [],
   "source": [
    "return_wednesday = durations_x\n",
    "arrival_returns_wednesday = arrival_x"
   ]
  },
  {
   "cell_type": "code",
   "execution_count": 380,
   "metadata": {},
   "outputs": [],
   "source": [
    "return_friday = durations_x\n",
    "arrival_return_friday = arrival_x"
   ]
  },
  {
   "cell_type": "code",
   "execution_count": 223,
   "metadata": {},
   "outputs": [],
   "source": [
    "durations_monday = durations_x"
   ]
  },
  {
   "cell_type": "code",
   "execution_count": 346,
   "metadata": {},
   "outputs": [],
   "source": [
    "arrival_monday = arrival_x"
   ]
  },
  {
   "cell_type": "code",
   "execution_count": 230,
   "metadata": {},
   "outputs": [],
   "source": [
    "durations_wednesday = durations_x"
   ]
  },
  {
   "cell_type": "code",
   "execution_count": 343,
   "metadata": {},
   "outputs": [],
   "source": [
    "arrival_wednesday = arrival_x"
   ]
  },
  {
   "cell_type": "code",
   "execution_count": 237,
   "metadata": {},
   "outputs": [],
   "source": [
    "durations_friday = durations_x"
   ]
  },
  {
   "cell_type": "code",
   "execution_count": 339,
   "metadata": {},
   "outputs": [],
   "source": [
    "arrival_friday = arrival_x"
   ]
  },
  {
   "cell_type": "code",
   "execution_count": null,
   "metadata": {},
   "outputs": [],
   "source": []
  },
  {
   "cell_type": "code",
   "execution_count": 348,
   "metadata": {},
   "outputs": [],
   "source": [
    "data = {'durations_monday' : durations_monday,\n",
    "        'arrival_monday' : arrival_monday,\n",
    "       'durations_wednesday' : durations_wednesday,\n",
    "        'arrival_wednesday' : arrival_wednesday,\n",
    "       'durations_friday' : durations_friday,\n",
    "       'arrival_friday' : arrival_friday}"
   ]
  },
  {
   "cell_type": "code",
   "execution_count": 381,
   "metadata": {},
   "outputs": [],
   "source": [
    "data_return = {'durations_monday' : return_monday,\n",
    "        'arrival_monday' : arrival_return_monday,\n",
    "       'durations_wednesday' : return_wednesday,\n",
    "        'arrival_wednesday' : arrival_returns_wednesday,\n",
    "       'durations_friday' : return_friday,\n",
    "       'arrival_friday' : arrival_return_friday}"
   ]
  },
  {
   "cell_type": "code",
   "execution_count": 240,
   "metadata": {},
   "outputs": [],
   "source": [
    "import pandas as pd"
   ]
  },
  {
   "cell_type": "code",
   "execution_count": 349,
   "metadata": {},
   "outputs": [],
   "source": [
    "df = pd.DataFrame(data, columns = ['durations_monday', 'arrival_monday', 'durations_wednesday', 'arrival_wednesday', 'durations_friday', 'arrival_friday'])"
   ]
  },
  {
   "cell_type": "code",
   "execution_count": 382,
   "metadata": {},
   "outputs": [],
   "source": [
    "df_return = pd.DataFrame(data_return, columns = ['durations_monday', 'arrival_monday', 'durations_wednesday', 'arrival_wednesday', 'durations_friday', 'arrival_friday'])"
   ]
  },
  {
   "cell_type": "code",
   "execution_count": 350,
   "metadata": {
    "scrolled": true
   },
   "outputs": [
    {
     "data": {
      "text/html": [
       "<div>\n",
       "<style scoped>\n",
       "    .dataframe tbody tr th:only-of-type {\n",
       "        vertical-align: middle;\n",
       "    }\n",
       "\n",
       "    .dataframe tbody tr th {\n",
       "        vertical-align: top;\n",
       "    }\n",
       "\n",
       "    .dataframe thead th {\n",
       "        text-align: right;\n",
       "    }\n",
       "</style>\n",
       "<table border=\"1\" class=\"dataframe\">\n",
       "  <thead>\n",
       "    <tr style=\"text-align: right;\">\n",
       "      <th></th>\n",
       "      <th>durations_monday</th>\n",
       "      <th>arrival_monday</th>\n",
       "      <th>durations_wednesday</th>\n",
       "      <th>arrival_wednesday</th>\n",
       "      <th>durations_friday</th>\n",
       "      <th>arrival_friday</th>\n",
       "    </tr>\n",
       "  </thead>\n",
       "  <tbody>\n",
       "    <tr>\n",
       "      <th>0</th>\n",
       "      <td>21 min</td>\n",
       "      <td>05:21</td>\n",
       "      <td>22 min</td>\n",
       "      <td>05:22</td>\n",
       "      <td>23 min</td>\n",
       "      <td>05:22</td>\n",
       "    </tr>\n",
       "    <tr>\n",
       "      <th>1</th>\n",
       "      <td>22 min</td>\n",
       "      <td>05:36</td>\n",
       "      <td>23 min</td>\n",
       "      <td>05:37</td>\n",
       "      <td>23 min</td>\n",
       "      <td>05:37</td>\n",
       "    </tr>\n",
       "    <tr>\n",
       "      <th>2</th>\n",
       "      <td>23 min</td>\n",
       "      <td>05:52</td>\n",
       "      <td>23 min</td>\n",
       "      <td>05:53</td>\n",
       "      <td>23 min</td>\n",
       "      <td>05:53</td>\n",
       "    </tr>\n",
       "    <tr>\n",
       "      <th>3</th>\n",
       "      <td>24 min</td>\n",
       "      <td>06:09</td>\n",
       "      <td>24 min</td>\n",
       "      <td>06:08</td>\n",
       "      <td>24 min</td>\n",
       "      <td>06:08</td>\n",
       "    </tr>\n",
       "    <tr>\n",
       "      <th>4</th>\n",
       "      <td>25 min</td>\n",
       "      <td>06:25</td>\n",
       "      <td>25 min</td>\n",
       "      <td>06:24</td>\n",
       "      <td>25 min</td>\n",
       "      <td>06:25</td>\n",
       "    </tr>\n",
       "  </tbody>\n",
       "</table>\n",
       "</div>"
      ],
      "text/plain": [
       "  durations_monday arrival_monday durations_wednesday arrival_wednesday  \\\n",
       "0           21 min          05:21              22 min             05:22   \n",
       "1           22 min          05:36              23 min             05:37   \n",
       "2           23 min          05:52              23 min             05:53   \n",
       "3           24 min          06:09              24 min             06:08   \n",
       "4           25 min          06:25              25 min             06:24   \n",
       "\n",
       "  durations_friday arrival_friday  \n",
       "0           23 min          05:22  \n",
       "1           23 min          05:37  \n",
       "2           23 min          05:53  \n",
       "3           24 min          06:08  \n",
       "4           25 min          06:25  "
      ]
     },
     "execution_count": 350,
     "metadata": {},
     "output_type": "execute_result"
    }
   ],
   "source": [
    "df.head()"
   ]
  },
  {
   "cell_type": "code",
   "execution_count": 383,
   "metadata": {},
   "outputs": [
    {
     "data": {
      "text/html": [
       "<div>\n",
       "<style scoped>\n",
       "    .dataframe tbody tr th:only-of-type {\n",
       "        vertical-align: middle;\n",
       "    }\n",
       "\n",
       "    .dataframe tbody tr th {\n",
       "        vertical-align: top;\n",
       "    }\n",
       "\n",
       "    .dataframe thead th {\n",
       "        text-align: right;\n",
       "    }\n",
       "</style>\n",
       "<table border=\"1\" class=\"dataframe\">\n",
       "  <thead>\n",
       "    <tr style=\"text-align: right;\">\n",
       "      <th></th>\n",
       "      <th>durations_monday</th>\n",
       "      <th>arrival_monday</th>\n",
       "      <th>durations_wednesday</th>\n",
       "      <th>arrival_wednesday</th>\n",
       "      <th>durations_friday</th>\n",
       "      <th>arrival_friday</th>\n",
       "    </tr>\n",
       "  </thead>\n",
       "  <tbody>\n",
       "    <tr>\n",
       "      <th>0</th>\n",
       "      <td>21 min</td>\n",
       "      <td>05:21</td>\n",
       "      <td>22 min</td>\n",
       "      <td>05:21</td>\n",
       "      <td>21 min</td>\n",
       "      <td>05:21</td>\n",
       "    </tr>\n",
       "    <tr>\n",
       "      <th>1</th>\n",
       "      <td>20 min</td>\n",
       "      <td>05:35</td>\n",
       "      <td>22 min</td>\n",
       "      <td>05:36</td>\n",
       "      <td>22 min</td>\n",
       "      <td>05:36</td>\n",
       "    </tr>\n",
       "    <tr>\n",
       "      <th>2</th>\n",
       "      <td>23 min</td>\n",
       "      <td>05:52</td>\n",
       "      <td>23 min</td>\n",
       "      <td>05:52</td>\n",
       "      <td>21 min</td>\n",
       "      <td>05:51</td>\n",
       "    </tr>\n",
       "    <tr>\n",
       "      <th>3</th>\n",
       "      <td>24 min</td>\n",
       "      <td>06:08</td>\n",
       "      <td>23 min</td>\n",
       "      <td>06:08</td>\n",
       "      <td>23 min</td>\n",
       "      <td>06:08</td>\n",
       "    </tr>\n",
       "    <tr>\n",
       "      <th>4</th>\n",
       "      <td>26 min</td>\n",
       "      <td>06:25</td>\n",
       "      <td>24 min</td>\n",
       "      <td>06:24</td>\n",
       "      <td>24 min</td>\n",
       "      <td>06:24</td>\n",
       "    </tr>\n",
       "  </tbody>\n",
       "</table>\n",
       "</div>"
      ],
      "text/plain": [
       "  durations_monday arrival_monday durations_wednesday arrival_wednesday  \\\n",
       "0           21 min          05:21              22 min             05:21   \n",
       "1           20 min          05:35              22 min             05:36   \n",
       "2           23 min          05:52              23 min             05:52   \n",
       "3           24 min          06:08              23 min             06:08   \n",
       "4           26 min          06:25              24 min             06:24   \n",
       "\n",
       "  durations_friday arrival_friday  \n",
       "0           21 min          05:21  \n",
       "1           22 min          05:36  \n",
       "2           21 min          05:51  \n",
       "3           23 min          06:08  \n",
       "4           24 min          06:24  "
      ]
     },
     "execution_count": 383,
     "metadata": {},
     "output_type": "execute_result"
    }
   ],
   "source": [
    "df_return.head()"
   ]
  },
  {
   "cell_type": "code",
   "execution_count": null,
   "metadata": {},
   "outputs": [],
   "source": []
  },
  {
   "cell_type": "code",
   "execution_count": 351,
   "metadata": {
    "scrolled": true
   },
   "outputs": [],
   "source": [
    "df.to_excel('duraciones_llegada_de_ida.xls')"
   ]
  },
  {
   "cell_type": "code",
   "execution_count": 385,
   "metadata": {},
   "outputs": [],
   "source": [
    "df_return.to_excel('../../duraciones_llegada_de_vuelta.xls')"
   ]
  },
  {
   "cell_type": "code",
   "execution_count": 160,
   "metadata": {},
   "outputs": [
    {
     "data": {
      "text/plain": [
       "'14.0 km'"
      ]
     },
     "execution_count": 160,
     "metadata": {},
     "output_type": "execute_result"
    }
   ],
   "source": [
    "distances\n",
    "format_distance(distances[0])"
   ]
  },
  {
   "cell_type": "markdown",
   "metadata": {},
   "source": [
    "### --------------------------------------------------------------------------------------------------"
   ]
  },
  {
   "cell_type": "code",
   "execution_count": 148,
   "metadata": {},
   "outputs": [],
   "source": [
    "directions_result = gmaps.directions(begin,\n",
    "                                     end,\n",
    "                                     mode=\"driving\",\n",
    "                                     departure_time=now, \n",
    "                                     alternatives=False,\n",
    "                                     traffic_model = 'best_guess')"
   ]
  },
  {
   "cell_type": "code",
   "execution_count": 149,
   "metadata": {},
   "outputs": [
    {
     "data": {
      "text/plain": [
       "'14.0 km'"
      ]
     },
     "execution_count": 149,
     "metadata": {},
     "output_type": "execute_result"
    }
   ],
   "source": [
    "distances = get_directions_total_distance(directions_result)\n",
    "format_distance(distances[0])"
   ]
  },
  {
   "cell_type": "code",
   "execution_count": 150,
   "metadata": {},
   "outputs": [
    {
     "data": {
      "text/plain": [
       "'36 min'"
      ]
     },
     "execution_count": 150,
     "metadata": {},
     "output_type": "execute_result"
    }
   ],
   "source": [
    "durations = get_directions_total_duration(directions_result)\n",
    "format_duration(durations[0])"
   ]
  },
  {
   "cell_type": "code",
   "execution_count": 182,
   "metadata": {},
   "outputs": [],
   "source": [
    "dur = get_directions_total_duration(dir_results[4])"
   ]
  },
  {
   "cell_type": "code",
   "execution_count": 183,
   "metadata": {},
   "outputs": [
    {
     "data": {
      "text/plain": [
       "'35 min'"
      ]
     },
     "execution_count": 183,
     "metadata": {},
     "output_type": "execute_result"
    }
   ],
   "source": [
    "format_duration(dur[0])"
   ]
  },
  {
   "cell_type": "code",
   "execution_count": 103,
   "metadata": {},
   "outputs": [],
   "source": [
    "traffic_polyline = get_directions_polylines(directions_result)[0]"
   ]
  },
  {
   "cell_type": "code",
   "execution_count": 104,
   "metadata": {},
   "outputs": [
    {
     "data": {
      "text/plain": [
       "'{teuBxbz|QoBoBE?KH{@`AqAzAMPw@s@YWmAaAcBgA}D}B{@i@oBcBwCkCu@u@gBeBwCoCmAqA_AwAoD}H[_Ay@_CwDgIUm@c@kBu@uDw@yCcA_EQcACSLGRWJ[?_@CUIUSSc@Qa@?WFSPSZOj@ST_Bh@}Bj@}AXk@@a@Ck@I_@Qc@Ws@m@i@s@cBmC[][OcBuCw@_BM]iAsCs@yBw@oAe@e@kAq@kDiBoA{@KKu@kAECa@{@[o@gA{Ao@s@w@sAkBcEe@k@a@[_@UuAi@}G_Bk@K_BEgB@_@Ai@Os@c@]Yg@k@Ua@Wo@KcAA]BkAFcBAs@Ks@s@cCkAwDqBwGKc@Ee@Ci@@o@H{BAe@Gu@UaAs@{Cy@sGk@uEC}@@c@N_CJoB@aBK}CUcCUwA]{AYaAc@sAs@_Dk@yCi@wCkBqImCwL}@{DSq@gAaDaAcCgAeCi@mAaAgBkAeBaAgBiSc_@mDmGiDsGiEiJsDgIoAeC_BsDeAeCmAgCYu@_@eAyDsIw@yAkC_G{@{ByBqGqA_D_EsJuCaHcAiCWw@qBuHeAkDI]Io@s@iHq@{CWgBEa@BoB?YL[pC}G`BcEnHuQ`BeED[?{@CSKQS[a@_@]WoAq@uDqBu@c@cAu@a@YSYOSi@i@wHsGcHiGUY@A@EDWA]EUKQQQ[Km@mEiA_IaA{Gg@sDHAbB[@C@IUcBSiAIAmEp@GVLz@@FkCb@OB'"
      ]
     },
     "execution_count": 104,
     "metadata": {},
     "output_type": "execute_result"
    }
   ],
   "source": [
    "traffic_polyline"
   ]
  },
  {
   "cell_type": "code",
   "execution_count": 102,
   "metadata": {},
   "outputs": [
    {
     "data": {
      "text/html": [
       "<div style=\"width:100%;\"><div style=\"position:relative;width:100%;height:0;padding-bottom:60%;\"><iframe src=\"data:text/html;charset=utf-8;base64,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\" style=\"position:absolute;width:100%;height:100%;left:0;top:0;border:none !important;\" allowfullscreen webkitallowfullscreen mozallowfullscreen></iframe></div></div>"
      ],
      "text/plain": [
       "<folium.folium.Map at 0x1cd5ee43408>"
      ]
     },
     "execution_count": 102,
     "metadata": {},
     "output_type": "execute_result"
    }
   ],
   "source": [
    "tiles_url = 'https://{s}.basemaps.cartocdn.com/rastertiles/voyager/{z}/{x}/{y}{r}.png'\n",
    "attrb ='&copy; <a href=\"https://www.openstreetmap.org/copyright\">OpenStreetMap</a> contributors &copy; <a href=\"https://carto.com/attributions\">CARTO</a>'\n",
    "m = folium.Map(tiles=None)\n",
    "\n",
    "folium.TileLayer(tiles_url,attr=attrb,name = 'Orizaba 32 - Car', show = True).add_to(m)\n",
    "\n",
    "\n",
    "text = '<p><b>Bosch Santa Fe</b></p>'\n",
    "text = folium.Html(text, script=True)\n",
    "popup = folium.Popup(text, max_width=2650)\n",
    "folium.Marker(bosch_location, icon = folium.Icon(color='red'), popup=popup).add_to(m)\n",
    "\n",
    "text = '<p><b>Orizaba 32</b></p>'\n",
    "text = folium.Html(text, script=True)\n",
    "popup = folium.Popup(text, max_width=2650)\n",
    "folium.Marker(orizaba_location, icon = folium.Icon(color='blue'), popup=popup).add_to(m)\n",
    "\n",
    "lyr = folium.FeatureGroup(name = 'Ruta sin trafico',show=False)\n",
    "traffic_lyr = folium.FeatureGroup(name = 'Ruta con trafico',show=False)\n",
    "\n",
    "folium.PolyLine(decode_polyline(polyline), color = 'green', weight = 6, popup=None).add_to(lyr)\n",
    "folium.PolyLine(decode_polyline(traffic_polyline), color = 'red', weight = 6, popup=None).add_to(traffic_lyr)\n",
    "\n",
    "lyr.add_to(m)\n",
    "traffic_lyr.add_to(m)\n",
    "    \n",
    "    \n",
    "Fullscreen(position='topleft', title='Full Screen', title_cancel='Exit Full Screen', force_separate_button=False).add_to(m)\n",
    "folium.LayerControl(collapsed=False).add_to(m)\n",
    "m.fit_bounds(m.get_bounds())\n",
    "m\n",
    "#m.save('../maps/Bosch Anstatt.html')"
   ]
  },
  {
   "cell_type": "code",
   "execution_count": null,
   "metadata": {},
   "outputs": [],
   "source": []
  }
 ],
 "metadata": {
  "kernelspec": {
   "display_name": "Python 3",
   "language": "python",
   "name": "python3"
  },
  "language_info": {
   "codemirror_mode": {
    "name": "ipython",
    "version": 3
   },
   "file_extension": ".py",
   "mimetype": "text/x-python",
   "name": "python",
   "nbconvert_exporter": "python",
   "pygments_lexer": "ipython3",
   "version": "3.7.4"
  }
 },
 "nbformat": 4,
 "nbformat_minor": 2
}
